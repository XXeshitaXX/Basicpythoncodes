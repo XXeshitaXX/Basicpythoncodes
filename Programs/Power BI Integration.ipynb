{
 "cells": [
  {
   "cell_type": "markdown",
   "metadata": {
    "id": "hUg2pUSzKpzU"
   },
   "source": [
    "# Power BI Integration"
   ]
  },
  {
   "cell_type": "code",
   "execution_count": 1,
   "metadata": {
    "colab": {
     "base_uri": "https://localhost:8080/"
    },
    "id": "lo6r48_KKbt4",
    "outputId": "bd2c2a3b-9e3c-41a7-fd06-3f5d1b5f937b"
   },
   "outputs": [],
   "source": [
    "from powerbiclient import Report, models, authentication\n",
    "from powerbiclient.authentication import InteractiveLoginAuthentication"
   ]
  },
  {
   "cell_type": "code",
   "execution_count": 2,
   "metadata": {
    "colab": {
     "base_uri": "https://localhost:8080/"
    },
    "id": "-xcFQciMp-1w",
    "outputId": "0520a598-f096-4f93-c0de-bddf84f60808"
   },
   "outputs": [
    {
     "name": "stdout",
     "output_type": "stream",
     "text": [
      "A local browser window will open for interactive sign in.\n",
      "\n",
      "Interactive authentication successfully completed.\n",
      "You are now logged in.\n"
     ]
    }
   ],
   "source": [
    "# Authenticate to Power BI service using InteractiveLoginAuthentication\n",
    "auth = authentication.InteractiveLoginAuthentication()"
   ]
  },
  {
   "cell_type": "code",
   "execution_count": 3,
   "metadata": {
    "id": "JQO-i9hVqhv3"
   },
   "outputs": [],
   "source": [
    "group_id = \"2c3b191d-0c7d-481f-b999-687846a60b77\"\n",
    "report_id = \"73cd8248-9341-484a-9244-a997552de4f8\"\n",
    "report = Report(group_id=group_id, report_id=report_id, auth=auth)"
   ]
  },
  {
   "cell_type": "code",
   "execution_count": 4,
   "metadata": {
    "colab": {
     "base_uri": "https://localhost:8080/",
     "height": 17,
     "referenced_widgets": [
      "f8c08e25375043b7ace3b750eeccae4e"
     ]
    },
    "id": "ZhRcb8iC1nmW",
    "outputId": "a31be4d3-81aa-4ab3-ea5c-efc66ca38193"
   },
   "outputs": [
    {
     "data": {
      "application/vnd.jupyter.widget-view+json": {
       "model_id": "7282bce6d14d48b286ef202af5b33c19",
       "version_major": 2,
       "version_minor": 0
      },
      "text/plain": [
       "Report()"
      ]
     },
     "metadata": {},
     "output_type": "display_data"
    }
   ],
   "source": [
    "report"
   ]
  },
  {
   "cell_type": "code",
   "execution_count": 6,
   "metadata": {
    "colab": {
     "base_uri": "https://localhost:8080/",
     "height": 287
    },
    "id": "sTpBYSGKzB3N",
    "outputId": "e8e3cf2d-8c21-46fe-88d3-9c85dd46a281"
   },
   "outputs": [
    {
     "data": {
      "text/plain": [
       "[{'name': 'ReportSection',\n",
       "  'displayName': 'Page 1',\n",
       "  'isActive': False,\n",
       "  'visibility': 0,\n",
       "  'defaultSize': {'type': 0, 'width': 1280, 'height': 720},\n",
       "  'mobileSize': None,\n",
       "  'defaultDisplayOption': 0,\n",
       "  'background': None,\n",
       "  'wallpaper': None},\n",
       " {'name': 'ReportSectiondd9e8fde4474a578eaac',\n",
       "  'displayName': 'Page 2',\n",
       "  'isActive': False,\n",
       "  'visibility': 0,\n",
       "  'defaultSize': {'type': 0, 'width': 1280, 'height': 720},\n",
       "  'mobileSize': None,\n",
       "  'defaultDisplayOption': 0,\n",
       "  'background': None,\n",
       "  'wallpaper': None},\n",
       " {'name': 'ReportSection30d09cbc7371cb529d37',\n",
       "  'displayName': 'Page 3',\n",
       "  'isActive': True,\n",
       "  'visibility': 0,\n",
       "  'defaultSize': {'type': 0, 'width': 1280, 'height': 720},\n",
       "  'mobileSize': None,\n",
       "  'defaultDisplayOption': 0,\n",
       "  'background': {'color': '#FFFFFF', 'transparency': 0, 'hasImage': True},\n",
       "  'wallpaper': {'color': '#FFFFFF', 'transparency': 0, 'hasImage': False}}]"
      ]
     },
     "execution_count": 6,
     "metadata": {},
     "output_type": "execute_result"
    }
   ],
   "source": [
    "#Get pages on the report\n",
    "pages = report.get_pages()\n",
    "pages"
   ]
  },
  {
   "cell_type": "code",
   "execution_count": 7,
   "metadata": {
    "colab": {
     "base_uri": "https://localhost:8080/",
     "height": 339
    },
    "id": "f-wyW8c5yw3o",
    "outputId": "c0856c22-b139-4417-d6fd-137fbab570fe"
   },
   "outputs": [],
   "source": [
    "# change dimension of the report\n",
    "report.set_size(750, 900)"
   ]
  }
 ],
 "metadata": {
  "colab": {
   "provenance": []
  },
  "kernelspec": {
   "display_name": "Python 3",
   "language": "python",
   "name": "python3"
  },
  "language_info": {
   "codemirror_mode": {
    "name": "ipython",
    "version": 3
   },
   "file_extension": ".py",
   "mimetype": "text/x-python",
   "name": "python",
   "nbconvert_exporter": "python",
   "pygments_lexer": "ipython3",
   "version": "3.7.6"
  },
  "widgets": {
   "application/vnd.jupyter.widget-state+json": {
    "f8c08e25375043b7ace3b750eeccae4e": {
     "model_module": "powerbi-jupyter-client",
     "model_module_version": "2.0.1",
     "model_name": "ReportModel",
     "state": {
      "_client_error": "",
      "_dom_classes": [],
      "_embed_config": {
       "accessToken": "eyJ0eXAiOiJKV1QiLCJhbGciOiJSUzI1NiIsIng1dCI6Ii1LSTNROW5OUjdiUm9meG1lWm9YcWJIWkdldyIsImtpZCI6Ii1LSTNROW5OUjdiUm9meG1lWm9YcWJIWkdldyJ9.eyJhdWQiOiJodHRwczovL2FuYWx5c2lzLndpbmRvd3MubmV0L3Bvd2VyYmkvYXBpIiwiaXNzIjoiaHR0cHM6Ly9zdHMud2luZG93cy5uZXQvMWYwMGNkNzYtOGUwMi00Yjg4LTg2NjAtNDkxNTRhZTdiMWQ3LyIsImlhdCI6MTY3NzgzMzc2OCwibmJmIjoxNjc3ODMzNzY4LCJleHAiOjE2Nzc4Mzc3NDAsImFjY3QiOjAsImFjciI6IjEiLCJhaW8iOiJBVlFBcS84VEFBQUFQeWlEWTBRSnVCZElXbUpjUVhSaVgvalhlbkpmZU5rRXllSHJBV0xaU2pOVVFvdnZWNWdkeVZab1dVaVRvZkc0aDhDcDdya1RXSCtEYWZpOGNUdEpEMUt4T0JGY1FMejQ0aldzN1FHdGl4Zz0iLCJhbXIiOlsicHdkIiwibWZhIl0sImFwcGlkIjoiMjNkOGY2YmQtMWViMC00Y2MyLWEwOGMtN2JmNTI1YzY3YmNkIiwiYXBwaWRhY3IiOiIwIiwiZmFtaWx5X25hbWUiOiJPa3BvbmdrcG9uZyIsImdpdmVuX25hbWUiOiJFa2VtaW5pIiwiaXBhZGRyIjoiMzQuODAuMTA0LjMyIiwibmFtZSI6IkVrZW1pbmkgT2twb25na3BvbmciLCJvaWQiOiJkZDgwMzc2Yi0zM2M5LTQ3NWQtYjc1NS1mZmQyMWU0Zjg4ZTIiLCJwdWlkIjoiMTAwMzIwMDIwOEY0OUEzOCIsInJoIjoiMC5BWUlBZHMwQUh3S09pRXVHWUVrVlN1ZXgxd2tBQUFBQUFBQUF3QUFBQUFBQUFBQ1ZBR0kuIiwic2NwIjoiQXBwLlJlYWQuQWxsIENhcGFjaXR5LlJlYWQuQWxsIENhcGFjaXR5LlJlYWRXcml0ZS5BbGwgQ29udGVudC5DcmVhdGUgRGFzaGJvYXJkLlJlYWQuQWxsIERhc2hib2FyZC5SZWFkV3JpdGUuQWxsIERhdGFmbG93LlJlYWQuQWxsIERhdGFmbG93LlJlYWRXcml0ZS5BbGwgRGF0YXNldC5SZWFkLkFsbCBEYXRhc2V0LlJlYWRXcml0ZS5BbGwgR2F0ZXdheS5SZWFkLkFsbCBHYXRld2F5LlJlYWRXcml0ZS5BbGwgUGlwZWxpbmUuRGVwbG95IFBpcGVsaW5lLlJlYWQuQWxsIFBpcGVsaW5lLlJlYWRXcml0ZS5BbGwgUmVwb3J0LlJlYWQuQWxsIFJlcG9ydC5SZWFkV3JpdGUuQWxsIFN0b3JhZ2VBY2NvdW50LlJlYWQuQWxsIFN0b3JhZ2VBY2NvdW50LlJlYWRXcml0ZS5BbGwgVGVuYW50LlJlYWQuQWxsIFRlbmFudC5SZWFkV3JpdGUuQWxsIFVzZXJTdGF0ZS5SZWFkV3JpdGUuQWxsIFdvcmtzcGFjZS5SZWFkLkFsbCBXb3Jrc3BhY2UuUmVhZFdyaXRlLkFsbCIsInNpZ25pbl9zdGF0ZSI6WyJrbXNpIl0sInN1YiI6InBCa29IZEFDM1Qxd21Vcmgzd21ZZFBHV29zT1RsZGp4Z21fLTdjcVZZREUiLCJ0aWQiOiIxZjAwY2Q3Ni04ZTAyLTRiODgtODY2MC00OTE1NGFlN2IxZDciLCJ1bmlxdWVfbmFtZSI6ImtlbW1pZUBrZW1taWUub25taWNyb3NvZnQuY29tIiwidXBuIjoia2VtbWllQGtlbW1pZS5vbm1pY3Jvc29mdC5jb20iLCJ1dGkiOiJjTTFKbzFiX2cwV1ZMaF9YQ1lZZ0FBIiwidmVyIjoiMS4wIiwid2lkcyI6WyI2MmU5MDM5NC02OWY1LTQyMzctOTE5MC0wMTIxNzcxNDVlMTAiLCJiNzlmYmY0ZC0zZWY5LTQ2ODktODE0My03NmIxOTRlODU1MDkiXX0.Yi4bdrF3XS6ziLnRtaRgbMgJ1mO9VJaNdWZnG5JFcZ9UvtQFidJIpqyCvJlpAkmA71jxUZXkBsIGJAN97kLo9-KKHPRR8WYVCb6SBb10cUMncjpNv0tgkh0roIrTgxTAIGjUZvyTWDr3Go1P1CBoak_EJ0gkoXhs0u4EQeaRNFuW-MQqL5mHXkMASqmJWyi6_HGKonfnOwtrm9mtNwNJ8U2EkSyyw7Pnre1KnBnAZ2nFPE0QA8V1PIVDj1lftcOFXYzFLQ3h5-02q8jwXfH6tjpzZsyfop8tJfDJUHw3hWShvHC8bbrdyTS8Wh8-nFbFenbcjTeP6zBHKOHuezCsSQ",
       "datasetId": null,
       "embedUrl": "https://app.powerbi.com/reportEmbed?reportId=73cd8248-9341-484a-9244-a997552de4f8&groupId=2c3b191d-0c7d-481f-b999-687846a60b77&w=2&config=eyJjbHVzdGVyVXJsIjoiaHR0cHM6Ly9XQUJJLVNPVVRILUFGUklDQS1OT1JUSC1BLVBSSU1BUlktcmVkaXJlY3QuYW5hbHlzaXMud2luZG93cy5uZXQiLCJlbWJlZEZlYXR1cmVzIjp7Im1vZGVybkVtYmVkIjp0cnVlLCJ1c2FnZU1ldHJpY3NWTmV4dCI6dHJ1ZX19",
       "permissions": null,
       "tokenExpiration": 1677837668,
       "tokenType": 0,
       "type": "report",
       "viewMode": 0
      },
      "_embedded": false,
      "_event_data": {
       "event_details": null,
       "event_name": null
      },
      "_export_visual_data_request": {
       "exportDataType": null,
       "pageName": null,
       "rows": null,
       "visualName": null
      },
      "_get_bookmarks_request": false,
      "_get_filters_request": false,
      "_get_pages_request": false,
      "_get_visuals_page_name": "",
      "_init_error": "",
      "_model_module": "powerbi-jupyter-client",
      "_model_module_version": "2.0.1",
      "_model_name": "ReportModel",
      "_page_visuals": [],
      "_report_bookmark_name": "",
      "_report_bookmarks": [],
      "_report_filters": [],
      "_report_filters_request": {
       "filters": [],
       "request_completed": true
      },
      "_report_pages": [],
      "_token_expired": false,
      "_view_count": null,
      "_view_module": "powerbi-jupyter-client",
      "_view_module_version": "2.0.1",
      "_view_name": "ReportView",
      "_visual_data": "",
      "container_height": 0,
      "container_width": 0,
      "layout": "IPY_MODEL_b073548e8df842958302946ab1aca552"
     }
    }
   }
  }
 },
 "nbformat": 4,
 "nbformat_minor": 1
}
