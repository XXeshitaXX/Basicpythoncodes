{
 "cells": [
  {
   "cell_type": "markdown",
   "id": "02a7f84c",
   "metadata": {},
   "source": [
    "# Task Tracker\n",
    "This is a \"Task Tracker\" application. This application will allow users to manage their tasks by adding, updating, and deleting tasks. We'll use object-oriented programming (OOP) principles to design the application."
   ]
  },
  {
   "cell_type": "code",
   "execution_count": 1,
   "id": "89f0d7df",
   "metadata": {},
   "outputs": [],
   "source": [
    "# Define the Task class to represent individual tasks\n",
    "class Task:\n",
    "    def __init__(self, title, description, status):\n",
    "        self.title = title\n",
    "        self.description = description\n",
    "        self.status = status\n",
    "\n",
    "    def update_title(self, new_title):\n",
    "        self.title = new_title\n",
    "\n",
    "    def update_description(self, new_description):\n",
    "        self.description = new_description\n",
    "\n",
    "    def update_status(self, new_status):\n",
    "        self.status = new_status"
   ]
  },
  {
   "cell_type": "code",
   "execution_count": 2,
   "id": "11dbf949",
   "metadata": {},
   "outputs": [],
   "source": [
    "# Define the TaskTracker class to manage a collection of tasks\n",
    "class TaskTracker:\n",
    "    def __init__(self):\n",
    "        self.tasks = []\n",
    "\n",
    "    def add_task(self, task):\n",
    "        self.tasks.append(task)\n",
    "\n",
    "    def update_task(self, index, new_task):\n",
    "        self.tasks[index] = new_task\n",
    "\n",
    "    def delete_task(self, index):\n",
    "        del self.tasks[index]\n",
    "\n",
    "    def display_tasks(self):\n",
    "        for index, task in enumerate(self.tasks, start=1):\n",
    "            print(f\"Task {index}:\")\n",
    "            print(f\"Title: {task.title}\")\n",
    "            print(f\"Description: {task.description}\")\n",
    "            print(f\"Status: {task.status}\")\n",
    "            print(\"-\" * 30)"
   ]
  },
  {
   "cell_type": "code",
   "execution_count": null,
   "id": "a615feb9",
   "metadata": {},
   "outputs": [
    {
     "name": "stdout",
     "output_type": "stream",
     "text": [
      "Menu:\n",
      "1. Add a new task\n",
      "2. Update an existing task\n",
      "3. Delete a task\n",
      "4. Display all tasks\n",
      "5. Exit\n"
     ]
    }
   ],
   "source": [
    "# Main function where the user interacts with the program\n",
    "def main():\n",
    "    # Create an instance of the TaskTracker class\n",
    "    task_tracker = TaskTracker()\n",
    "\n",
    "    while True:\n",
    "        print(\"Menu:\")\n",
    "        print(\"1. Add a new task\")\n",
    "        print(\"2. Update an existing task\")\n",
    "        print(\"3. Delete a task\")\n",
    "        print(\"4. Display all tasks\")\n",
    "        print(\"5. Exit\")\n",
    "\n",
    "        choice = input(\"Enter your choice: \")\n",
    "\n",
    "        if choice == \"1\":\n",
    "            # Gather task details from the user\n",
    "            title = input(\"Enter task title: \")\n",
    "            description = input(\"Enter task description: \")\n",
    "            status = input(\"Enter task status (To Do, In Progress, Done): \")\n",
    "            new_task = Task(title, description, status)\n",
    "            task_tracker.add_task(new_task)\n",
    "        elif choice == \"2\":\n",
    "            # Display existing tasks and gather updated task details\n",
    "            task_tracker.display_tasks()\n",
    "            index = int(input(\"Enter the task number to update: \")) - 1\n",
    "            title = input(\"Enter new task title: \")\n",
    "            description = input(\"Enter new task description: \")\n",
    "            status = input(\"Enter new task status: \")\n",
    "            updated_task = Task(title, description, status)\n",
    "            task_tracker.update_task(index, updated_task)\n",
    "        elif choice == \"3\":\n",
    "            # Display existing tasks and delete a task based on user input\n",
    "            task_tracker.display_tasks()\n",
    "            index = int(input(\"Enter the task number to delete: \")) - 1\n",
    "            task_tracker.delete_task(index)\n",
    "        elif choice == \"4\":\n",
    "            # Display all existing tasks\n",
    "            task_tracker.display_tasks()\n",
    "        elif choice == \"5\":\n",
    "            print(\"Goodbye!\")\n",
    "            break\n",
    "        else:\n",
    "            print(\"Invalid choice. Please try again.\")\n",
    "\n",
    "# Execute the main function when the script is run\n",
    "if __name__ == \"__main__\":\n",
    "    main()"
   ]
  }
 ],
 "metadata": {
  "kernelspec": {
   "display_name": "Python 3 (ipykernel)",
   "language": "python",
   "name": "python3"
  },
  "language_info": {
   "codemirror_mode": {
    "name": "ipython",
    "version": 3
   },
   "file_extension": ".py",
   "mimetype": "text/x-python",
   "name": "python",
   "nbconvert_exporter": "python",
   "pygments_lexer": "ipython3",
   "version": "3.10.9"
  }
 },
 "nbformat": 4,
 "nbformat_minor": 5
}
